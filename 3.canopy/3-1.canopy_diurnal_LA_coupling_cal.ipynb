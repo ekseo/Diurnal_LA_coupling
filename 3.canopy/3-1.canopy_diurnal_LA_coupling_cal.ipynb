{
 "cells": [
  {
   "cell_type": "code",
   "execution_count": 1,
   "metadata": {},
   "outputs": [],
   "source": [
    "import numpy as np\n",
    "import xarray as xr\n",
    "import pandas as pd\n",
    "from netCDF4 import Dataset, MFDataset\n",
    "import matplotlib.pyplot as plt\n",
    "import glob\n",
    "from datetime import datetime, timedelta\n",
    "from scipy import stats\n",
    "from sklearn.metrics import mean_squared_error\n",
    "import calendar\n",
    "\n",
    "import sys, os, time, warnings\n",
    "warnings.filterwarnings(\"ignore\", category=FutureWarning)\n",
    "warnings.filterwarnings(\"ignore\", category=RuntimeWarning)\n",
    "warnings.filterwarnings(\"ignore\", category=UserWarning)\n",
    "\n",
    "from pandas.core.common import SettingWithCopyWarning\n",
    "warnings.simplefilter(action=\"ignore\", category=SettingWithCopyWarning)\n",
    "# warnings.filterwarnings(\"ignore\", category=SettingWithCopyWarning)"
   ]
  },
  {
   "cell_type": "code",
   "execution_count": 2,
   "metadata": {},
   "outputs": [],
   "source": [
    "def calc_q_vpd(pa,ta,vpd):              # Specific humidity [kg/kg] from VPD\n",
    "    eps = 0.622\n",
    "    es = 611.2*np.exp(17.67*ta/(ta+243.5))   # Ta in ˚C\n",
    "    eu = es - 100*vpd                   # VPD in hPa\n",
    "    return eps*eu/(1000*pa-(1-eps)*eu)  # Pa in kPa\n",
    "\n",
    "def calc_theta(pa,ta):                  # potential temperature [K]\n",
    "    return (ta+273.15)*(100./pa)**(0.286)    # Ta in ˚C, Pa in kPa"
   ]
  },
  {
   "cell_type": "code",
   "execution_count": 3,
   "metadata": {},
   "outputs": [],
   "source": [
    "dir = './data/'\n",
    "levs = [1.5, 56.0]\n",
    "\n",
    "f1 = sorted(glob.glob(dir+'MV00501.*'))\n",
    "f2 = sorted(glob.glob(dir+'MV00505.*'))\n",
    "ta1  = pd.read_csv(f1[0],na_values=-9999)\n",
    "vpd1 = pd.read_csv(f2[0],na_values=-9999)\n",
    "del f1\n",
    "del f2\n",
    "\n",
    "ta1 = ta1.rename(columns={'DATE_TIME': 'time'}, errors=\"raise\")\n",
    "time1 = pd.to_datetime(ta1['time'])\n",
    "ta1['time'] = time1\n",
    "del time1\n",
    "\n",
    "vpd1 = vpd1.rename(columns={'DATE_TIME': 'time'}, errors=\"raise\")\n",
    "time1 = pd.to_datetime(vpd1['time'])\n",
    "vpd1['time'] = time1\n",
    "del time1\n"
   ]
  },
  {
   "cell_type": "code",
   "execution_count": 4,
   "metadata": {},
   "outputs": [],
   "source": [
    "lmask = ( ta1['PROBE_HT']==levs[0] )\n",
    "ta_l1 = ta1[lmask].resample('1H', on = 'time').mean()\n",
    "lmask = ( vpd1['PROBE_HT']==levs[0] )\n",
    "vpd_l1 = vpd1[lmask].resample('1H', on = 'time').mean()\n",
    "\n",
    "\n",
    "data_l1 = ta_l1.assign(VPD_MEAN=vpd_l1['VPD_MEAN'])\n",
    "data_l1 = data_l1.assign(Q_MEAN=calc_q_vpd(101.325,data_l1['AIRTEMP_MEAN'],data_l1['VPD_MEAN']))\n",
    "data_l1 = data_l1.assign(THETA_MEAN=calc_theta(101.325,data_l1['AIRTEMP_MEAN']))\n",
    "data_l1 = data_l1.reset_index()"
   ]
  },
  {
   "cell_type": "code",
   "execution_count": 5,
   "metadata": {},
   "outputs": [],
   "source": [
    "lmask = ( ta1['PROBE_HT']==levs[1] )\n",
    "ta_l2 = ta1[lmask].resample('1H', on = 'time').mean()\n",
    "lmask = ( vpd1['PROBE_HT']==levs[1] )\n",
    "vpd_l2 = vpd1[lmask].resample('1H', on = 'time').mean()\n",
    "\n",
    "data_l2 = ta_l2.assign(VPD_MEAN=vpd_l2['VPD_MEAN'])\n",
    "data_l2 = data_l2.assign(Q_MEAN=calc_q_vpd(101.325,data_l2['AIRTEMP_MEAN'],data_l2['VPD_MEAN']))\n",
    "data_l2 = data_l2.assign(THETA_MEAN=calc_theta(101.325,data_l2['AIRTEMP_MEAN']))\n",
    "data_l2 = data_l2.reset_index()\n",
    "\n",
    "tmask = ( data_l2['time'] >= '2016-09-06' )\n",
    "data_l2_2 = data_l2[tmask]\n",
    "data_l2_2 = data_l2_2.set_index([ pd.Index([i for i in range(tmask.sum())]) ])\n",
    "del data_l2\n",
    "data_l2 = data_l2_2\n",
    "del data_l2_2"
   ]
  },
  {
   "cell_type": "code",
   "execution_count": 6,
   "metadata": {},
   "outputs": [],
   "source": [
    "data_l1_dy = data_l1.resample('1D', on = 'time').mean()\n",
    "data_l2_dy = data_l2.resample('1D', on = 'time').mean()\n",
    "data_l1_dy = data_l1_dy.reset_index()\n",
    "data_l2_dy = data_l2_dy.reset_index()"
   ]
  },
  {
   "cell_type": "code",
   "execution_count": 8,
   "metadata": {},
   "outputs": [
    {
     "name": "stdout",
     "output_type": "stream",
     "text": [
      "end making Dataframe :  2.5115316659212112 seconds\n"
     ]
    }
   ],
   "source": [
    "month = [x for x in range(1,13)]\n",
    "month_name = [calendar.month_abbr[x] for x in range(1,13)]\n",
    "\n",
    "# 1.5-meter calculation\n",
    "data = data_l1\n",
    "data_dy = data_l1_dy\n",
    "level = levs[0]\n",
    "# 56-meter calculation\n",
    "data = data_l2\n",
    "data_dy = data_l2_dy\n",
    "level = levs[1]\n",
    "\n",
    "cnt1 = 0\n",
    "t_start = time.perf_counter()\n",
    "for m,mon in enumerate(month_name):\n",
    "    mask2 = ( data_dy['time'].dt.month == month[m] )\n",
    "    me, te = np.nanmean(2.5e6*data_dy['Q_MEAN'][mask2]), np.nanmean(1005.*data_dy['THETA_MEAN'][mask2])\n",
    "    d_out = pd.DataFrame(np.array([[me, te]]),columns=['ME_MEAN', 'TE_MEAN'], index=['daily'])\n",
    "    \n",
    "    for hr in range(24):\n",
    "        mask1 = ( data['time'].dt.month == month[m] ) & ( data['time'].dt.hour == hr )\n",
    "        me, te = np.nanmean(2.5e6*data['Q_MEAN'][mask1]), np.nanmean(1005.*data['THETA_MEAN'][mask1])\n",
    "        d_out = d_out.append( pd.DataFrame(np.array([[me, te]]),columns=['ME_MEAN', 'TE_MEAN'], index=[str(hr)]) )\n",
    "        \n",
    "    d_out['month'] = month[m]\n",
    "    if cnt1==0:\n",
    "        d_out2 = d_out\n",
    "    else:\n",
    "        d_out2 = d_out2.append( d_out )\n",
    "    cnt1 = cnt1 + 1\n",
    "    del d_out\n",
    "\n",
    "\n",
    "d_out2['sub-daily'] = d_out2.index\n",
    "d_out2.fillna(np.nan).to_csv(\"FULLSET/knb-lter_\"+str(level)+\"meters.csv\",float_format='%.8g',index=False)\n",
    "print(\"end making Dataframe : \",time.perf_counter()-t_start,\"seconds\")\n",
    "del d_out2\n",
    "    \n",
    "                        "
   ]
  },
  {
   "cell_type": "code",
   "execution_count": null,
   "metadata": {},
   "outputs": [],
   "source": []
  }
 ],
 "metadata": {
  "kernelspec": {
   "display_name": "Python 3 (ipykernel)",
   "language": "python",
   "name": "python3"
  },
  "language_info": {
   "codemirror_mode": {
    "name": "ipython",
    "version": 3
   },
   "file_extension": ".py",
   "mimetype": "text/x-python",
   "name": "python",
   "nbconvert_exporter": "python",
   "pygments_lexer": "ipython3",
   "version": "3.9.9"
  }
 },
 "nbformat": 4,
 "nbformat_minor": 4
}
